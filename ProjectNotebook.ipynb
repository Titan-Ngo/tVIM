{
 "cells": [
  {
   "cell_type": "markdown",
   "metadata": {},
   "source": [
    "# tVIM - By Titan Ngo - COGS 18 SP19"
   ]
  },
  {
   "cell_type": "markdown",
   "metadata": {},
   "source": [
    "## Project Description"
   ]
  },
  {
   "cell_type": "markdown",
   "metadata": {},
   "source": [
    "tVIM is a text editor with the purpose of writing code and with some basic commands from gVIM. These commands can be used after exiting \"insert mode\" (the typical, text editor mode) by pressing \"Esc\". These commands include, but are not limited to:\n",
    "\n",
    "- ___gg___   -> moves cursor to the beginning of the file\n",
    "- ___G___    -> moves cursor to the end of the file\n",
    "- ___o___    -> creates a new line below the cursor and enter insert mode\n",
    "- ___O___    -> creates a new line below the cursor and enter insert mode\n",
    "- ___:wq___  -> saves the file as a specified filename and quits\n",
    "- ___?pattern___  -> searches for the specified 'pattern' in this file\n",
    "\n",
    "tVIM also allows customization of fonts and themes. "
   ]
  },
  {
   "cell_type": "markdown",
   "metadata": {},
   "source": [
    "## Code"
   ]
  },
  {
   "cell_type": "code",
   "execution_count": 1,
   "metadata": {},
   "outputs": [],
   "source": [
    "# In this cell, we setup our modules\n",
    "\n",
    "# Import Tkinter objects (GIU package)\n",
    "import tkinter as tk\n",
    "import tkinter.scrolledtext as scroll \n",
    "from tkinter import messagebox\n",
    "from tkinter import filedialog \n",
    "from tkinter import *\n",
    "\n",
    "# Import our modules\n",
    "from my_modules.MainModule import * # Provides main functionality of our program\n",
    "from my_modules.ParseCommands import * # Provides functionaltiy for commands\n",
    "from my_modules.StringConstants import * # Defines string constants \n",
    "from my_modules.TestModule import * # Defines a test for tVIM"
   ]
  },
  {
   "cell_type": "code",
   "execution_count": 2,
   "metadata": {
    "scrolled": false
   },
   "outputs": [
    {
     "data": {
      "text/plain": [
       "<my_modules.MainModule.tVIM at 0x18335940b00>"
      ]
     },
     "execution_count": 2,
     "metadata": {},
     "output_type": "execute_result"
    }
   ],
   "source": [
    "# Runs the program\n",
    "tVIM()"
   ]
  },
  {
   "cell_type": "code",
   "execution_count": 3,
   "metadata": {},
   "outputs": [
    {
     "name": "stdout",
     "output_type": "stream",
     "text": [
      "tVIM opened and closed.\n"
     ]
    }
   ],
   "source": [
    "# Call test\n",
    "test_tVIM()"
   ]
  }
 ],
 "metadata": {
  "kernelspec": {
   "display_name": "Python 3",
   "language": "python",
   "name": "python3"
  },
  "language_info": {
   "codemirror_mode": {
    "name": "ipython",
    "version": 3
   },
   "file_extension": ".py",
   "mimetype": "text/x-python",
   "name": "python",
   "nbconvert_exporter": "python",
   "pygments_lexer": "ipython3",
   "version": "3.7.1"
  }
 },
 "nbformat": 4,
 "nbformat_minor": 2
}
